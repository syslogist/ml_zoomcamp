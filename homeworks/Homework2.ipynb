{
 "cells": [
  {
   "cell_type": "code",
   "execution_count": 1,
   "id": "a654551c",
   "metadata": {},
   "outputs": [],
   "source": [
    "import numpy as np\n",
    "import pandas as pd\n",
    "import matplotlib.pyplot as plt\n",
    "import seaborn as sns\n",
    "\n",
    "%matplotlib inline"
   ]
  },
  {
   "cell_type": "markdown",
   "id": "57ed4858",
   "metadata": {},
   "source": [
    "## Dataset ##\n",
    "In this homework, we will use the California Housing Prices from Kaggle.\n",
    "\n",
    "Here's a wget-able link:\n",
    "\n",
    "wget https://raw.githubusercontent.com/alexeygrigorev/datasets/master/housing.csv\n",
    "\n",
    "The goal of this homework is to create a regression model for predicting housing prices (column 'median_house_value')."
   ]
  },
  {
   "cell_type": "markdown",
   "id": "72c62812",
   "metadata": {},
   "source": [
    "## EDA ##\n",
    "-   Load the data.\n",
    "-   Look at the median_house_value variable. Does it have a long tail?"
   ]
  },
  {
   "cell_type": "code",
   "execution_count": 2,
   "id": "c40b73d7",
   "metadata": {},
   "outputs": [
    {
     "name": "stdout",
     "output_type": "stream",
     "text": [
      "(20640, 10)\n"
     ]
    },
    {
     "data": {
      "text/html": [
       "<div>\n",
       "<style scoped>\n",
       "    .dataframe tbody tr th:only-of-type {\n",
       "        vertical-align: middle;\n",
       "    }\n",
       "\n",
       "    .dataframe tbody tr th {\n",
       "        vertical-align: top;\n",
       "    }\n",
       "\n",
       "    .dataframe thead th {\n",
       "        text-align: right;\n",
       "    }\n",
       "</style>\n",
       "<table border=\"1\" class=\"dataframe\">\n",
       "  <thead>\n",
       "    <tr style=\"text-align: right;\">\n",
       "      <th></th>\n",
       "      <th>longitude</th>\n",
       "      <th>latitude</th>\n",
       "      <th>housing_median_age</th>\n",
       "      <th>total_rooms</th>\n",
       "      <th>total_bedrooms</th>\n",
       "      <th>population</th>\n",
       "      <th>households</th>\n",
       "      <th>median_income</th>\n",
       "      <th>median_house_value</th>\n",
       "      <th>ocean_proximity</th>\n",
       "    </tr>\n",
       "  </thead>\n",
       "  <tbody>\n",
       "    <tr>\n",
       "      <th>0</th>\n",
       "      <td>-122.23</td>\n",
       "      <td>37.88</td>\n",
       "      <td>41.0</td>\n",
       "      <td>880.0</td>\n",
       "      <td>129.0</td>\n",
       "      <td>322.0</td>\n",
       "      <td>126.0</td>\n",
       "      <td>8.3252</td>\n",
       "      <td>452600.0</td>\n",
       "      <td>NEAR BAY</td>\n",
       "    </tr>\n",
       "    <tr>\n",
       "      <th>1</th>\n",
       "      <td>-122.22</td>\n",
       "      <td>37.86</td>\n",
       "      <td>21.0</td>\n",
       "      <td>7099.0</td>\n",
       "      <td>1106.0</td>\n",
       "      <td>2401.0</td>\n",
       "      <td>1138.0</td>\n",
       "      <td>8.3014</td>\n",
       "      <td>358500.0</td>\n",
       "      <td>NEAR BAY</td>\n",
       "    </tr>\n",
       "    <tr>\n",
       "      <th>2</th>\n",
       "      <td>-122.24</td>\n",
       "      <td>37.85</td>\n",
       "      <td>52.0</td>\n",
       "      <td>1467.0</td>\n",
       "      <td>190.0</td>\n",
       "      <td>496.0</td>\n",
       "      <td>177.0</td>\n",
       "      <td>7.2574</td>\n",
       "      <td>352100.0</td>\n",
       "      <td>NEAR BAY</td>\n",
       "    </tr>\n",
       "    <tr>\n",
       "      <th>3</th>\n",
       "      <td>-122.25</td>\n",
       "      <td>37.85</td>\n",
       "      <td>52.0</td>\n",
       "      <td>1274.0</td>\n",
       "      <td>235.0</td>\n",
       "      <td>558.0</td>\n",
       "      <td>219.0</td>\n",
       "      <td>5.6431</td>\n",
       "      <td>341300.0</td>\n",
       "      <td>NEAR BAY</td>\n",
       "    </tr>\n",
       "    <tr>\n",
       "      <th>4</th>\n",
       "      <td>-122.25</td>\n",
       "      <td>37.85</td>\n",
       "      <td>52.0</td>\n",
       "      <td>1627.0</td>\n",
       "      <td>280.0</td>\n",
       "      <td>565.0</td>\n",
       "      <td>259.0</td>\n",
       "      <td>3.8462</td>\n",
       "      <td>342200.0</td>\n",
       "      <td>NEAR BAY</td>\n",
       "    </tr>\n",
       "  </tbody>\n",
       "</table>\n",
       "</div>"
      ],
      "text/plain": [
       "   longitude  latitude  housing_median_age  total_rooms  total_bedrooms  \\\n",
       "0    -122.23     37.88                41.0        880.0           129.0   \n",
       "1    -122.22     37.86                21.0       7099.0          1106.0   \n",
       "2    -122.24     37.85                52.0       1467.0           190.0   \n",
       "3    -122.25     37.85                52.0       1274.0           235.0   \n",
       "4    -122.25     37.85                52.0       1627.0           280.0   \n",
       "\n",
       "   population  households  median_income  median_house_value ocean_proximity  \n",
       "0       322.0       126.0         8.3252            452600.0        NEAR BAY  \n",
       "1      2401.0      1138.0         8.3014            358500.0        NEAR BAY  \n",
       "2       496.0       177.0         7.2574            352100.0        NEAR BAY  \n",
       "3       558.0       219.0         5.6431            341300.0        NEAR BAY  \n",
       "4       565.0       259.0         3.8462            342200.0        NEAR BAY  "
      ]
     },
     "execution_count": 2,
     "metadata": {},
     "output_type": "execute_result"
    }
   ],
   "source": [
    "df_housing = pd.read_csv('https://raw.githubusercontent.com/alexeygrigorev/datasets/master/housing.csv')\n",
    "print(df_housing.shape)\n",
    "df_housing.head()"
   ]
  },
  {
   "cell_type": "code",
   "execution_count": 3,
   "id": "54567986",
   "metadata": {},
   "outputs": [
    {
     "name": "stdout",
     "output_type": "stream",
     "text": [
      "<class 'pandas.core.frame.DataFrame'>\n",
      "RangeIndex: 20640 entries, 0 to 20639\n",
      "Data columns (total 10 columns):\n",
      " #   Column              Non-Null Count  Dtype  \n",
      "---  ------              --------------  -----  \n",
      " 0   longitude           20640 non-null  float64\n",
      " 1   latitude            20640 non-null  float64\n",
      " 2   housing_median_age  20640 non-null  float64\n",
      " 3   total_rooms         20640 non-null  float64\n",
      " 4   total_bedrooms      20433 non-null  float64\n",
      " 5   population          20640 non-null  float64\n",
      " 6   households          20640 non-null  float64\n",
      " 7   median_income       20640 non-null  float64\n",
      " 8   median_house_value  20640 non-null  float64\n",
      " 9   ocean_proximity     20640 non-null  object \n",
      "dtypes: float64(9), object(1)\n",
      "memory usage: 1.6+ MB\n"
     ]
    }
   ],
   "source": [
    "df_housing.info()"
   ]
  },
  {
   "cell_type": "code",
   "execution_count": 4,
   "id": "3c1a16c9",
   "metadata": {},
   "outputs": [
    {
     "data": {
      "image/png": "[encoded data removed]",
      "text/plain": [
       "<Figure size 432x288 with 1 Axes>"
      ]
     },
     "metadata": {
      "needs_background": "light"
     },
     "output_type": "display_data"
    }
   ],
   "source": [
    "sns.histplot(df_housing.median_house_value);"
   ]
  },
  {
   "cell_type": "markdown",
   "id": "df445caa",
   "metadata": {},
   "source": [
    "## Features ##\n",
    "\n",
    "For the rest of the homework, you'll need to use only these columns:\n",
    "-   'latitude',\n",
    "-   'longitude',\n",
    "-   'housing_median_age',\n",
    "-   'total_rooms',\n",
    "-    'total_bedrooms',\n",
    "-   'population',\n",
    "-   'households',\n",
    "-   'median_income',\n",
    "-   'median_house_value'"
   ]
  },
  {
   "cell_type": "code",
   "execution_count": 5,
   "id": "9e245684",
   "metadata": {},
   "outputs": [
    {
     "data": {
      "text/html": [
       "<div>\n",
       "<style scoped>\n",
       "    .dataframe tbody tr th:only-of-type {\n",
       "        vertical-align: middle;\n",
       "    }\n",
       "\n",
       "    .dataframe tbody tr th {\n",
       "        vertical-align: top;\n",
       "    }\n",
       "\n",
       "    .dataframe thead th {\n",
       "        text-align: right;\n",
       "    }\n",
       "</style>\n",
       "<table border=\"1\" class=\"dataframe\">\n",
       "  <thead>\n",
       "    <tr style=\"text-align: right;\">\n",
       "      <th></th>\n",
       "      <th>latitude</th>\n",
       "      <th>longitude</th>\n",
       "      <th>housing_median_age</th>\n",
       "      <th>total_rooms</th>\n",
       "      <th>total_bedrooms</th>\n",
       "      <th>population</th>\n",
       "      <th>households</th>\n",
       "      <th>median_income</th>\n",
       "      <th>median_house_value</th>\n",
       "    </tr>\n",
       "  </thead>\n",
       "  <tbody>\n",
       "    <tr>\n",
       "      <th>0</th>\n",
       "      <td>37.88</td>\n",
       "      <td>-122.23</td>\n",
       "      <td>41.0</td>\n",
       "      <td>880.0</td>\n",
       "      <td>129.0</td>\n",
       "      <td>322.0</td>\n",
       "      <td>126.0</td>\n",
       "      <td>8.3252</td>\n",
       "      <td>452600.0</td>\n",
       "    </tr>\n",
       "    <tr>\n",
       "      <th>1</th>\n",
       "      <td>37.86</td>\n",
       "      <td>-122.22</td>\n",
       "      <td>21.0</td>\n",
       "      <td>7099.0</td>\n",
       "      <td>1106.0</td>\n",
       "      <td>2401.0</td>\n",
       "      <td>1138.0</td>\n",
       "      <td>8.3014</td>\n",
       "      <td>358500.0</td>\n",
       "    </tr>\n",
       "    <tr>\n",
       "      <th>2</th>\n",
       "      <td>37.85</td>\n",
       "      <td>-122.24</td>\n",
       "      <td>52.0</td>\n",
       "      <td>1467.0</td>\n",
       "      <td>190.0</td>\n",
       "      <td>496.0</td>\n",
       "      <td>177.0</td>\n",
       "      <td>7.2574</td>\n",
       "      <td>352100.0</td>\n",
       "    </tr>\n",
       "    <tr>\n",
       "      <th>3</th>\n",
       "      <td>37.85</td>\n",
       "      <td>-122.25</td>\n",
       "      <td>52.0</td>\n",
       "      <td>1274.0</td>\n",
       "      <td>235.0</td>\n",
       "      <td>558.0</td>\n",
       "      <td>219.0</td>\n",
       "      <td>5.6431</td>\n",
       "      <td>341300.0</td>\n",
       "    </tr>\n",
       "    <tr>\n",
       "      <th>4</th>\n",
       "      <td>37.85</td>\n",
       "      <td>-122.25</td>\n",
       "      <td>52.0</td>\n",
       "      <td>1627.0</td>\n",
       "      <td>280.0</td>\n",
       "      <td>565.0</td>\n",
       "      <td>259.0</td>\n",
       "      <td>3.8462</td>\n",
       "      <td>342200.0</td>\n",
       "    </tr>\n",
       "  </tbody>\n",
       "</table>\n",
       "</div>"
      ],
      "text/plain": [
       "   latitude  longitude  housing_median_age  total_rooms  total_bedrooms  \\\n",
       "0     37.88    -122.23                41.0        880.0           129.0   \n",
       "1     37.86    -122.22                21.0       7099.0          1106.0   \n",
       "2     37.85    -122.24                52.0       1467.0           190.0   \n",
       "3     37.85    -122.25                52.0       1274.0           235.0   \n",
       "4     37.85    -122.25                52.0       1627.0           280.0   \n",
       "\n",
       "   population  households  median_income  median_house_value  \n",
       "0       322.0       126.0         8.3252            452600.0  \n",
       "1      2401.0      1138.0         8.3014            358500.0  \n",
       "2       496.0       177.0         7.2574            352100.0  \n",
       "3       558.0       219.0         5.6431            341300.0  \n",
       "4       565.0       259.0         3.8462            342200.0  "
      ]
     },
     "execution_count": 5,
     "metadata": {},
     "output_type": "execute_result"
    }
   ],
   "source": [
    "features = [\n",
    "    'latitude', 'longitude', 'housing_median_age', 'total_rooms', 'total_bedrooms',\n",
    "    'population', 'households', 'median_income', 'median_house_value'\n",
    "]\n",
    "df = df_housing[features]\n",
    "df.head()"
   ]
  },
  {
   "cell_type": "markdown",
   "id": "e012e683",
   "metadata": {},
   "source": [
    "## Question 1\n",
    "Find a feature with missing values. How many missing values does it have?\n",
    "-   207\n",
    "-   307\n",
    "-   408\n",
    "-   508"
   ]
  },
  {
   "cell_type": "code",
   "execution_count": 6,
   "id": "36469f11",
   "metadata": {},
   "outputs": [
    {
     "data": {
      "text/plain": [
       "latitude              False\n",
       "longitude             False\n",
       "housing_median_age    False\n",
       "total_rooms           False\n",
       "total_bedrooms         True\n",
       "population            False\n",
       "households            False\n",
       "median_income         False\n",
       "median_house_value    False\n",
       "dtype: bool"
      ]
     },
     "execution_count": 6,
     "metadata": {},
     "output_type": "execute_result"
    }
   ],
   "source": [
    "df.isna().any()"
   ]
  },
  {
   "cell_type": "code",
   "execution_count": 7,
   "id": "6c90b469",
   "metadata": {},
   "outputs": [
    {
     "name": "stdout",
     "output_type": "stream",
     "text": [
      "Number of missing values in the feature 'total_bedrooms': 207\n"
     ]
    }
   ],
   "source": [
    "print(f\"Number of missing values in the feature 'total_bedrooms': {df.total_bedrooms.isna().sum()}\")"
   ]
  },
  {
   "cell_type": "markdown",
   "id": "da3d02cd",
   "metadata": {},
   "source": [
    "## Question 2\n",
    "\n",
    "What's the median (50% percentile) for variable 'population'?\n",
    "-   1133\n",
    "-   1122\n",
    "-   1166\n",
    "-   1188"
   ]
  },
  {
   "cell_type": "code",
   "execution_count": 8,
   "id": "d7215dab",
   "metadata": {},
   "outputs": [
    {
     "name": "stdout",
     "output_type": "stream",
     "text": [
      "Median for the variable 'population' is: 1166\n"
     ]
    }
   ],
   "source": [
    "print(f\"Median for the variable 'population' is: {round(df.population.median())}\")"
   ]
  },
  {
   "cell_type": "markdown",
   "id": "21b6ff96",
   "metadata": {},
   "source": [
    "## Split the data\n",
    "-   Shuffle the initial dataset, use seed 42.\n",
    "-   Split your data in train/val/test sets, with 60%/20%/20% distribution.\n",
    "-   Make sure that the target value ('median_house_value') is not in your dataframe.\n",
    "-   Apply the log transformation to the median_house_value variable using the np.log1p() function."
   ]
  },
  {
   "cell_type": "code",
   "execution_count": 9,
   "id": "1444f547",
   "metadata": {},
   "outputs": [
    {
     "name": "stdout",
     "output_type": "stream",
     "text": [
      "Number of records (rows): 20640\n"
     ]
    }
   ],
   "source": [
    "n = len(df)\n",
    "print(f\"Number of records (rows): {n}\")"
   ]
  },
  {
   "cell_type": "code",
   "execution_count": 10,
   "id": "05cadc38",
   "metadata": {},
   "outputs": [
    {
     "name": "stdout",
     "output_type": "stream",
     "text": [
      "Number of records for training, validation and testing: (12384, 4128, 4128)\n"
     ]
    }
   ],
   "source": [
    "n_valid = int(0.2*n)\n",
    "n_test = int(0.2*n)\n",
    "n_train = n - n_valid - n_test\n",
    "print(f\"Number of records for training, validation and testing: {n_train, n_valid, n_test}\")"
   ]
  },
  {
   "cell_type": "code",
   "execution_count": 11,
   "id": "1f2bb88a",
   "metadata": {},
   "outputs": [],
   "source": [
    "idx = np.arange(n)\n",
    "\n",
    "np.random.seed(42)\n",
    "np.random.shuffle(idx)"
   ]
  },
  {
   "cell_type": "code",
   "execution_count": 12,
   "id": "169c1020",
   "metadata": {},
   "outputs": [],
   "source": [
    "df_train = df.iloc[idx[:n_train]]\n",
    "df_valid = df.iloc[idx[n_train:n_train+n_valid]]\n",
    "df_test = df.iloc[idx[n_train+n_valid:]]"
   ]
  },
  {
   "cell_type": "code",
   "execution_count": 13,
   "id": "6442207c",
   "metadata": {},
   "outputs": [
    {
     "name": "stdout",
     "output_type": "stream",
     "text": [
      "(12384, 9)\n"
     ]
    },
    {
     "data": {
      "text/html": [
       "<div>\n",
       "<style scoped>\n",
       "    .dataframe tbody tr th:only-of-type {\n",
       "        vertical-align: middle;\n",
       "    }\n",
       "\n",
       "    .dataframe tbody tr th {\n",
       "        vertical-align: top;\n",
       "    }\n",
       "\n",
       "    .dataframe thead th {\n",
       "        text-align: right;\n",
       "    }\n",
       "</style>\n",
       "<table border=\"1\" class=\"dataframe\">\n",
       "  <thead>\n",
       "    <tr style=\"text-align: right;\">\n",
       "      <th></th>\n",
       "      <th>latitude</th>\n",
       "      <th>longitude</th>\n",
       "      <th>housing_median_age</th>\n",
       "      <th>total_rooms</th>\n",
       "      <th>total_bedrooms</th>\n",
       "      <th>population</th>\n",
       "      <th>households</th>\n",
       "      <th>median_income</th>\n",
       "      <th>median_house_value</th>\n",
       "    </tr>\n",
       "  </thead>\n",
       "  <tbody>\n",
       "    <tr>\n",
       "      <th>20046</th>\n",
       "      <td>36.06</td>\n",
       "      <td>-119.01</td>\n",
       "      <td>25.0</td>\n",
       "      <td>1505.0</td>\n",
       "      <td>NaN</td>\n",
       "      <td>1392.0</td>\n",
       "      <td>359.0</td>\n",
       "      <td>1.6812</td>\n",
       "      <td>47700.0</td>\n",
       "    </tr>\n",
       "    <tr>\n",
       "      <th>3024</th>\n",
       "      <td>35.14</td>\n",
       "      <td>-119.46</td>\n",
       "      <td>30.0</td>\n",
       "      <td>2943.0</td>\n",
       "      <td>NaN</td>\n",
       "      <td>1565.0</td>\n",
       "      <td>584.0</td>\n",
       "      <td>2.5313</td>\n",
       "      <td>45800.0</td>\n",
       "    </tr>\n",
       "    <tr>\n",
       "      <th>15663</th>\n",
       "      <td>37.80</td>\n",
       "      <td>-122.44</td>\n",
       "      <td>52.0</td>\n",
       "      <td>3830.0</td>\n",
       "      <td>NaN</td>\n",
       "      <td>1310.0</td>\n",
       "      <td>963.0</td>\n",
       "      <td>3.4801</td>\n",
       "      <td>500001.0</td>\n",
       "    </tr>\n",
       "    <tr>\n",
       "      <th>20484</th>\n",
       "      <td>34.28</td>\n",
       "      <td>-118.72</td>\n",
       "      <td>17.0</td>\n",
       "      <td>3051.0</td>\n",
       "      <td>NaN</td>\n",
       "      <td>1705.0</td>\n",
       "      <td>495.0</td>\n",
       "      <td>5.7376</td>\n",
       "      <td>218600.0</td>\n",
       "    </tr>\n",
       "    <tr>\n",
       "      <th>9814</th>\n",
       "      <td>36.62</td>\n",
       "      <td>-121.93</td>\n",
       "      <td>34.0</td>\n",
       "      <td>2351.0</td>\n",
       "      <td>NaN</td>\n",
       "      <td>1063.0</td>\n",
       "      <td>428.0</td>\n",
       "      <td>3.7250</td>\n",
       "      <td>278000.0</td>\n",
       "    </tr>\n",
       "  </tbody>\n",
       "</table>\n",
       "</div>"
      ],
      "text/plain": [
       "       latitude  longitude  housing_median_age  total_rooms  total_bedrooms  \\\n",
       "20046     36.06    -119.01                25.0       1505.0             NaN   \n",
       "3024      35.14    -119.46                30.0       2943.0             NaN   \n",
       "15663     37.80    -122.44                52.0       3830.0             NaN   \n",
       "20484     34.28    -118.72                17.0       3051.0             NaN   \n",
       "9814      36.62    -121.93                34.0       2351.0             NaN   \n",
       "\n",
       "       population  households  median_income  median_house_value  \n",
       "20046      1392.0       359.0         1.6812             47700.0  \n",
       "3024       1565.0       584.0         2.5313             45800.0  \n",
       "15663      1310.0       963.0         3.4801            500001.0  \n",
       "20484      1705.0       495.0         5.7376            218600.0  \n",
       "9814       1063.0       428.0         3.7250            278000.0  "
      ]
     },
     "execution_count": 13,
     "metadata": {},
     "output_type": "execute_result"
    }
   ],
   "source": [
    "print(df_train.shape)\n",
    "df_train.head()"
   ]
  },
  {
   "cell_type": "code",
   "execution_count": 14,
   "id": "b0d462ad",
   "metadata": {},
   "outputs": [
    {
     "name": "stdout",
     "output_type": "stream",
     "text": [
      "(4128, 9)\n"
     ]
    },
    {
     "data": {
      "text/html": [
       "<div>\n",
       "<style scoped>\n",
       "    .dataframe tbody tr th:only-of-type {\n",
       "        vertical-align: middle;\n",
       "    }\n",
       "\n",
       "    .dataframe tbody tr th {\n",
       "        vertical-align: top;\n",
       "    }\n",
       "\n",
       "    .dataframe thead th {\n",
       "        text-align: right;\n",
       "    }\n",
       "</style>\n",
       "<table border=\"1\" class=\"dataframe\">\n",
       "  <thead>\n",
       "    <tr style=\"text-align: right;\">\n",
       "      <th></th>\n",
       "      <th>latitude</th>\n",
       "      <th>longitude</th>\n",
       "      <th>housing_median_age</th>\n",
       "      <th>total_rooms</th>\n",
       "      <th>total_bedrooms</th>\n",
       "      <th>population</th>\n",
       "      <th>households</th>\n",
       "      <th>median_income</th>\n",
       "      <th>median_house_value</th>\n",
       "    </tr>\n",
       "  </thead>\n",
       "  <tbody>\n",
       "    <tr>\n",
       "      <th>19660</th>\n",
       "      <td>37.51</td>\n",
       "      <td>-120.85</td>\n",
       "      <td>15.0</td>\n",
       "      <td>1131.0</td>\n",
       "      <td>285.0</td>\n",
       "      <td>728.0</td>\n",
       "      <td>281.0</td>\n",
       "      <td>1.5531</td>\n",
       "      <td>93100.0</td>\n",
       "    </tr>\n",
       "    <tr>\n",
       "      <th>4415</th>\n",
       "      <td>34.09</td>\n",
       "      <td>-118.25</td>\n",
       "      <td>52.0</td>\n",
       "      <td>1866.0</td>\n",
       "      <td>470.0</td>\n",
       "      <td>1211.0</td>\n",
       "      <td>417.0</td>\n",
       "      <td>2.9350</td>\n",
       "      <td>189400.0</td>\n",
       "    </tr>\n",
       "    <tr>\n",
       "      <th>18113</th>\n",
       "      <td>37.31</td>\n",
       "      <td>-122.02</td>\n",
       "      <td>34.0</td>\n",
       "      <td>2629.0</td>\n",
       "      <td>433.0</td>\n",
       "      <td>1301.0</td>\n",
       "      <td>431.0</td>\n",
       "      <td>6.0830</td>\n",
       "      <td>341400.0</td>\n",
       "    </tr>\n",
       "    <tr>\n",
       "      <th>17673</th>\n",
       "      <td>37.30</td>\n",
       "      <td>-121.88</td>\n",
       "      <td>16.0</td>\n",
       "      <td>2692.0</td>\n",
       "      <td>749.0</td>\n",
       "      <td>1674.0</td>\n",
       "      <td>681.0</td>\n",
       "      <td>2.6763</td>\n",
       "      <td>191100.0</td>\n",
       "    </tr>\n",
       "    <tr>\n",
       "      <th>16992</th>\n",
       "      <td>37.56</td>\n",
       "      <td>-122.27</td>\n",
       "      <td>17.0</td>\n",
       "      <td>3211.0</td>\n",
       "      <td>847.0</td>\n",
       "      <td>1553.0</td>\n",
       "      <td>812.0</td>\n",
       "      <td>4.9434</td>\n",
       "      <td>292100.0</td>\n",
       "    </tr>\n",
       "  </tbody>\n",
       "</table>\n",
       "</div>"
      ],
      "text/plain": [
       "       latitude  longitude  housing_median_age  total_rooms  total_bedrooms  \\\n",
       "19660     37.51    -120.85                15.0       1131.0           285.0   \n",
       "4415      34.09    -118.25                52.0       1866.0           470.0   \n",
       "18113     37.31    -122.02                34.0       2629.0           433.0   \n",
       "17673     37.30    -121.88                16.0       2692.0           749.0   \n",
       "16992     37.56    -122.27                17.0       3211.0           847.0   \n",
       "\n",
       "       population  households  median_income  median_house_value  \n",
       "19660       728.0       281.0         1.5531             93100.0  \n",
       "4415       1211.0       417.0         2.9350            189400.0  \n",
       "18113      1301.0       431.0         6.0830            341400.0  \n",
       "17673      1674.0       681.0         2.6763            191100.0  \n",
       "16992      1553.0       812.0         4.9434            292100.0  "
      ]
     },
     "execution_count": 14,
     "metadata": {},
     "output_type": "execute_result"
    }
   ],
   "source": [
    "print(df_valid.shape)\n",
    "df_valid.head()"
   ]
  },
  {
   "cell_type": "code",
   "execution_count": 15,
   "id": "e4a38694",
   "metadata": {},
   "outputs": [
    {
     "name": "stdout",
     "output_type": "stream",
     "text": [
      "(4128, 9)\n"
     ]
    },
    {
     "data": {
      "text/html": [
       "<div>\n",
       "<style scoped>\n",
       "    .dataframe tbody tr th:only-of-type {\n",
       "        vertical-align: middle;\n",
       "    }\n",
       "\n",
       "    .dataframe tbody tr th {\n",
       "        vertical-align: top;\n",
       "    }\n",
       "\n",
       "    .dataframe thead th {\n",
       "        text-align: right;\n",
       "    }\n",
       "</style>\n",
       "<table border=\"1\" class=\"dataframe\">\n",
       "  <thead>\n",
       "    <tr style=\"text-align: right;\">\n",
       "      <th></th>\n",
       "      <th>latitude</th>\n",
       "      <th>longitude</th>\n",
       "      <th>housing_median_age</th>\n",
       "      <th>total_rooms</th>\n",
       "      <th>total_bedrooms</th>\n",
       "      <th>population</th>\n",
       "      <th>households</th>\n",
       "      <th>median_income</th>\n",
       "      <th>median_house_value</th>\n",
       "    </tr>\n",
       "  </thead>\n",
       "  <tbody>\n",
       "    <tr>\n",
       "      <th>9221</th>\n",
       "      <td>37.13</td>\n",
       "      <td>-120.26</td>\n",
       "      <td>33.0</td>\n",
       "      <td>1239.0</td>\n",
       "      <td>250.0</td>\n",
       "      <td>648.0</td>\n",
       "      <td>227.0</td>\n",
       "      <td>2.0278</td>\n",
       "      <td>58800.0</td>\n",
       "    </tr>\n",
       "    <tr>\n",
       "      <th>10234</th>\n",
       "      <td>33.86</td>\n",
       "      <td>-117.91</td>\n",
       "      <td>26.0</td>\n",
       "      <td>2296.0</td>\n",
       "      <td>570.0</td>\n",
       "      <td>1415.0</td>\n",
       "      <td>527.0</td>\n",
       "      <td>2.4732</td>\n",
       "      <td>165800.0</td>\n",
       "    </tr>\n",
       "    <tr>\n",
       "      <th>4763</th>\n",
       "      <td>34.04</td>\n",
       "      <td>-118.36</td>\n",
       "      <td>48.0</td>\n",
       "      <td>1769.0</td>\n",
       "      <td>429.0</td>\n",
       "      <td>993.0</td>\n",
       "      <td>405.0</td>\n",
       "      <td>2.3214</td>\n",
       "      <td>139400.0</td>\n",
       "    </tr>\n",
       "    <tr>\n",
       "      <th>9062</th>\n",
       "      <td>34.69</td>\n",
       "      <td>-118.15</td>\n",
       "      <td>32.0</td>\n",
       "      <td>1300.0</td>\n",
       "      <td>234.0</td>\n",
       "      <td>712.0</td>\n",
       "      <td>249.0</td>\n",
       "      <td>3.2500</td>\n",
       "      <td>107500.0</td>\n",
       "    </tr>\n",
       "    <tr>\n",
       "      <th>1874</th>\n",
       "      <td>38.93</td>\n",
       "      <td>-119.97</td>\n",
       "      <td>24.0</td>\n",
       "      <td>856.0</td>\n",
       "      <td>185.0</td>\n",
       "      <td>388.0</td>\n",
       "      <td>108.0</td>\n",
       "      <td>3.1806</td>\n",
       "      <td>107200.0</td>\n",
       "    </tr>\n",
       "  </tbody>\n",
       "</table>\n",
       "</div>"
      ],
      "text/plain": [
       "       latitude  longitude  housing_median_age  total_rooms  total_bedrooms  \\\n",
       "9221      37.13    -120.26                33.0       1239.0           250.0   \n",
       "10234     33.86    -117.91                26.0       2296.0           570.0   \n",
       "4763      34.04    -118.36                48.0       1769.0           429.0   \n",
       "9062      34.69    -118.15                32.0       1300.0           234.0   \n",
       "1874      38.93    -119.97                24.0        856.0           185.0   \n",
       "\n",
       "       population  households  median_income  median_house_value  \n",
       "9221        648.0       227.0         2.0278             58800.0  \n",
       "10234      1415.0       527.0         2.4732            165800.0  \n",
       "4763        993.0       405.0         2.3214            139400.0  \n",
       "9062        712.0       249.0         3.2500            107500.0  \n",
       "1874        388.0       108.0         3.1806            107200.0  "
      ]
     },
     "execution_count": 15,
     "metadata": {},
     "output_type": "execute_result"
    }
   ],
   "source": [
    "print(df_test.shape)\n",
    "df_test.head()"
   ]
  },
  {
   "cell_type": "code",
   "execution_count": 16,
   "id": "27e75855",
   "metadata": {},
   "outputs": [],
   "source": [
    "df_train = df_train.reset_index(drop=True)\n",
    "df_valid = df_valid.reset_index(drop=True)\n",
    "df_test = df_test.reset_index(drop=True)"
   ]
  },
  {
   "cell_type": "code",
   "execution_count": 17,
   "id": "dfaf65de",
   "metadata": {},
   "outputs": [
    {
     "data": {
      "text/plain": [
       "(12384, 4128, 4128)"
      ]
     },
     "execution_count": 17,
     "metadata": {},
     "output_type": "execute_result"
    }
   ],
   "source": [
    "y_train = np.log1p(df_train.median_house_value)\n",
    "y_valid = np.log1p(df_valid.median_house_value)\n",
    "y_test = np.log1p(df_test.median_house_value)\n",
    "len(y_train), len(y_valid), len(y_test)"
   ]
  },
  {
   "cell_type": "code",
   "execution_count": 18,
   "id": "746c40c7",
   "metadata": {},
   "outputs": [],
   "source": [
    "del df_train['median_house_value']\n",
    "del df_valid['median_house_value']\n",
    "del df_test['median_house_value']"
   ]
  },
  {
   "cell_type": "code",
   "execution_count": 19,
   "id": "bd5d658d",
   "metadata": {},
   "outputs": [
    {
     "name": "stdout",
     "output_type": "stream",
     "text": [
      "(12384, 8)\n"
     ]
    },
    {
     "data": {
      "text/html": [
       "<div>\n",
       "<style scoped>\n",
       "    .dataframe tbody tr th:only-of-type {\n",
       "        vertical-align: middle;\n",
       "    }\n",
       "\n",
       "    .dataframe tbody tr th {\n",
       "        vertical-align: top;\n",
       "    }\n",
       "\n",
       "    .dataframe thead th {\n",
       "        text-align: right;\n",
       "    }\n",
       "</style>\n",
       "<table border=\"1\" class=\"dataframe\">\n",
       "  <thead>\n",
       "    <tr style=\"text-align: right;\">\n",
       "      <th></th>\n",
       "      <th>latitude</th>\n",
       "      <th>longitude</th>\n",
       "      <th>housing_median_age</th>\n",
       "      <th>total_rooms</th>\n",
       "      <th>total_bedrooms</th>\n",
       "      <th>population</th>\n",
       "      <th>households</th>\n",
       "      <th>median_income</th>\n",
       "    </tr>\n",
       "  </thead>\n",
       "  <tbody>\n",
       "    <tr>\n",
       "      <th>0</th>\n",
       "      <td>36.06</td>\n",
       "      <td>-119.01</td>\n",
       "      <td>25.0</td>\n",
       "      <td>1505.0</td>\n",
       "      <td>NaN</td>\n",
       "      <td>1392.0</td>\n",
       "      <td>359.0</td>\n",
       "      <td>1.6812</td>\n",
       "    </tr>\n",
       "    <tr>\n",
       "      <th>1</th>\n",
       "      <td>35.14</td>\n",
       "      <td>-119.46</td>\n",
       "      <td>30.0</td>\n",
       "      <td>2943.0</td>\n",
       "      <td>NaN</td>\n",
       "      <td>1565.0</td>\n",
       "      <td>584.0</td>\n",
       "      <td>2.5313</td>\n",
       "    </tr>\n",
       "    <tr>\n",
       "      <th>2</th>\n",
       "      <td>37.80</td>\n",
       "      <td>-122.44</td>\n",
       "      <td>52.0</td>\n",
       "      <td>3830.0</td>\n",
       "      <td>NaN</td>\n",
       "      <td>1310.0</td>\n",
       "      <td>963.0</td>\n",
       "      <td>3.4801</td>\n",
       "    </tr>\n",
       "    <tr>\n",
       "      <th>3</th>\n",
       "      <td>34.28</td>\n",
       "      <td>-118.72</td>\n",
       "      <td>17.0</td>\n",
       "      <td>3051.0</td>\n",
       "      <td>NaN</td>\n",
       "      <td>1705.0</td>\n",
       "      <td>495.0</td>\n",
       "      <td>5.7376</td>\n",
       "    </tr>\n",
       "    <tr>\n",
       "      <th>4</th>\n",
       "      <td>36.62</td>\n",
       "      <td>-121.93</td>\n",
       "      <td>34.0</td>\n",
       "      <td>2351.0</td>\n",
       "      <td>NaN</td>\n",
       "      <td>1063.0</td>\n",
       "      <td>428.0</td>\n",
       "      <td>3.7250</td>\n",
       "    </tr>\n",
       "  </tbody>\n",
       "</table>\n",
       "</div>"
      ],
      "text/plain": [
       "   latitude  longitude  housing_median_age  total_rooms  total_bedrooms  \\\n",
       "0     36.06    -119.01                25.0       1505.0             NaN   \n",
       "1     35.14    -119.46                30.0       2943.0             NaN   \n",
       "2     37.80    -122.44                52.0       3830.0             NaN   \n",
       "3     34.28    -118.72                17.0       3051.0             NaN   \n",
       "4     36.62    -121.93                34.0       2351.0             NaN   \n",
       "\n",
       "   population  households  median_income  \n",
       "0      1392.0       359.0         1.6812  \n",
       "1      1565.0       584.0         2.5313  \n",
       "2      1310.0       963.0         3.4801  \n",
       "3      1705.0       495.0         5.7376  \n",
       "4      1063.0       428.0         3.7250  "
      ]
     },
     "execution_count": 19,
     "metadata": {},
     "output_type": "execute_result"
    }
   ],
   "source": [
    "print(df_train.shape)\n",
    "df_train.head()"
   ]
  },
  {
   "cell_type": "code",
   "execution_count": 20,
   "id": "a21aa6b3",
   "metadata": {},
   "outputs": [
    {
     "name": "stdout",
     "output_type": "stream",
     "text": [
      "(4128, 8)\n"
     ]
    },
    {
     "data": {
      "text/html": [
       "<div>\n",
       "<style scoped>\n",
       "    .dataframe tbody tr th:only-of-type {\n",
       "        vertical-align: middle;\n",
       "    }\n",
       "\n",
       "    .dataframe tbody tr th {\n",
       "        vertical-align: top;\n",
       "    }\n",
       "\n",
       "    .dataframe thead th {\n",
       "        text-align: right;\n",
       "    }\n",
       "</style>\n",
       "<table border=\"1\" class=\"dataframe\">\n",
       "  <thead>\n",
       "    <tr style=\"text-align: right;\">\n",
       "      <th></th>\n",
       "      <th>latitude</th>\n",
       "      <th>longitude</th>\n",
       "      <th>housing_median_age</th>\n",
       "      <th>total_rooms</th>\n",
       "      <th>total_bedrooms</th>\n",
       "      <th>population</th>\n",
       "      <th>households</th>\n",
       "      <th>median_income</th>\n",
       "    </tr>\n",
       "  </thead>\n",
       "  <tbody>\n",
       "    <tr>\n",
       "      <th>0</th>\n",
       "      <td>37.51</td>\n",
       "      <td>-120.85</td>\n",
       "      <td>15.0</td>\n",
       "      <td>1131.0</td>\n",
       "      <td>285.0</td>\n",
       "      <td>728.0</td>\n",
       "      <td>281.0</td>\n",
       "      <td>1.5531</td>\n",
       "    </tr>\n",
       "    <tr>\n",
       "      <th>1</th>\n",
       "      <td>34.09</td>\n",
       "      <td>-118.25</td>\n",
       "      <td>52.0</td>\n",
       "      <td>1866.0</td>\n",
       "      <td>470.0</td>\n",
       "      <td>1211.0</td>\n",
       "      <td>417.0</td>\n",
       "      <td>2.9350</td>\n",
       "    </tr>\n",
       "    <tr>\n",
       "      <th>2</th>\n",
       "      <td>37.31</td>\n",
       "      <td>-122.02</td>\n",
       "      <td>34.0</td>\n",
       "      <td>2629.0</td>\n",
       "      <td>433.0</td>\n",
       "      <td>1301.0</td>\n",
       "      <td>431.0</td>\n",
       "      <td>6.0830</td>\n",
       "    </tr>\n",
       "    <tr>\n",
       "      <th>3</th>\n",
       "      <td>37.30</td>\n",
       "      <td>-121.88</td>\n",
       "      <td>16.0</td>\n",
       "      <td>2692.0</td>\n",
       "      <td>749.0</td>\n",
       "      <td>1674.0</td>\n",
       "      <td>681.0</td>\n",
       "      <td>2.6763</td>\n",
       "    </tr>\n",
       "    <tr>\n",
       "      <th>4</th>\n",
       "      <td>37.56</td>\n",
       "      <td>-122.27</td>\n",
       "      <td>17.0</td>\n",
       "      <td>3211.0</td>\n",
       "      <td>847.0</td>\n",
       "      <td>1553.0</td>\n",
       "      <td>812.0</td>\n",
       "      <td>4.9434</td>\n",
       "    </tr>\n",
       "  </tbody>\n",
       "</table>\n",
       "</div>"
      ],
      "text/plain": [
       "   latitude  longitude  housing_median_age  total_rooms  total_bedrooms  \\\n",
       "0     37.51    -120.85                15.0       1131.0           285.0   \n",
       "1     34.09    -118.25                52.0       1866.0           470.0   \n",
       "2     37.31    -122.02                34.0       2629.0           433.0   \n",
       "3     37.30    -121.88                16.0       2692.0           749.0   \n",
       "4     37.56    -122.27                17.0       3211.0           847.0   \n",
       "\n",
       "   population  households  median_income  \n",
       "0       728.0       281.0         1.5531  \n",
       "1      1211.0       417.0         2.9350  \n",
       "2      1301.0       431.0         6.0830  \n",
       "3      1674.0       681.0         2.6763  \n",
       "4      1553.0       812.0         4.9434  "
      ]
     },
     "execution_count": 20,
     "metadata": {},
     "output_type": "execute_result"
    }
   ],
   "source": [
    "print(df_valid.shape)\n",
    "df_valid.head()"
   ]
  },
  {
   "cell_type": "markdown",
   "id": "1dab6560",
   "metadata": {},
   "source": [
    "## Question 3\n",
    "-   We need to deal with missing values for the column from Q1.\n",
    "-   We have two options: fill it with 0 or with the mean of this variable.\n",
    "-   Try both options. For each, train a linear regression model without regularization using the code from the lessons.\n",
    "-   For computing the mean, use the training only!\n",
    "-   Use the validation dataset to evaluate the models and compare the RMSE of each option.\n",
    "-   Round the RMSE scores to 2 decimal digits using round(score, 2)\n",
    "-   Which option gives better RMSE?\n",
    "\n",
    "Options:\n",
    "-   With 0\n",
    "-   With mean\n",
    "-   Both are equally good"
   ]
  },
  {
   "cell_type": "code",
   "execution_count": 21,
   "id": "b658717f",
   "metadata": {},
   "outputs": [],
   "source": [
    "def train_linear_regression(X, y):\n",
    "    ones = np.ones(X.shape[0])\n",
    "    X = np.column_stack([ones, X])\n",
    "\n",
    "    XTX = X.T @ X\n",
    "    XTX_inv = np.linalg.inv(XTX)\n",
    "    w_full = (XTX_inv @ X.T) @ y\n",
    "    \n",
    "    return w_full[0], w_full[1:]"
   ]
  },
  {
   "cell_type": "code",
   "execution_count": 22,
   "id": "c56106f5",
   "metadata": {},
   "outputs": [],
   "source": [
    "def rmse(y, y_pred):\n",
    "    se = (y - y_pred) ** 2\n",
    "    mse = se.mean()\n",
    "    return np.sqrt(mse)"
   ]
  },
  {
   "cell_type": "code",
   "execution_count": 23,
   "id": "3bfd9aa8",
   "metadata": {},
   "outputs": [],
   "source": [
    "def prepare_X(df, fill):\n",
    "    df_filled = df.fillna(fill)\n",
    "    X = df_filled.values\n",
    "    return X"
   ]
  },
  {
   "cell_type": "code",
   "execution_count": 24,
   "id": "70823c71",
   "metadata": {},
   "outputs": [
    {
     "name": "stdout",
     "output_type": "stream",
     "text": [
      "RMSE with missing values filled with zero: 0.33\n"
     ]
    }
   ],
   "source": [
    "X_train = prepare_X(df_train, 0)\n",
    "w0, w = train_linear_regression(X_train, y_train)\n",
    "\n",
    "X_valid = prepare_X(df_valid, 0)\n",
    "y_pred = w0 + X_valid @ w\n",
    "print(f\"RMSE with missing values filled with zero: {round(rmse(y_valid, y_pred),2)}\")"
   ]
  },
  {
   "cell_type": "code",
   "execution_count": 25,
   "id": "c8e24ac2",
   "metadata": {},
   "outputs": [
    {
     "name": "stdout",
     "output_type": "stream",
     "text": [
      "RMSE with missing values filled with mean (of training dataset): 0.33\n"
     ]
    }
   ],
   "source": [
    "mean_br = df_train.total_bedrooms.mean()\n",
    "X_train = prepare_X(df_train, mean_br)\n",
    "w0, w = train_linear_regression(X_train, y_train)\n",
    "\n",
    "X_valid = prepare_X(df_valid, mean_br)\n",
    "y_pred = w0 + X_valid @ w\n",
    "print(f\"RMSE with missing values filled with mean (of training dataset): {round(rmse(y_valid, y_pred),2)}\")"
   ]
  },
  {
   "cell_type": "markdown",
   "id": "6d54ef38",
   "metadata": {},
   "source": [
    "## Question 4\n",
    "-   Now let's train a regularized linear regression.\n",
    "-   For this question, fill the NAs with 0.\n",
    "-   Try different values of r from this list: [0, 0.000001, 0.0001, 0.001, 0.01, 0.1, 1, 5, 10].\n",
    "-   Use RMSE to evaluate the model on the validation dataset.\n",
    "-   Round the RMSE scores to 2 decimal digits.\n",
    "-   Which r gives the best RMSE?\n",
    "\n",
    "If there are multiple options, select the smallest r.\n",
    "\n",
    "Options:\n",
    "-   0\n",
    "-   0.000001\n",
    "-   0.001\n",
    "-   0.0001"
   ]
  },
  {
   "cell_type": "code",
   "execution_count": 26,
   "id": "35137a7f",
   "metadata": {},
   "outputs": [],
   "source": [
    "def train_linear_regression_reg(X, y, r=0.001):\n",
    "    ones = np.ones(X.shape[0])\n",
    "    X = np.column_stack((ones, X))\n",
    "\n",
    "    XTX = X.T @ X\n",
    "    XTX = XTX + r * np.identity(XTX.shape[0])\n",
    "\n",
    "    XTX_inv = np.linalg.inv(XTX)\n",
    "    w_full = (XTX_inv @ X.T) @ y\n",
    "    \n",
    "    return w_full[0], w_full[1:]"
   ]
  },
  {
   "cell_type": "code",
   "execution_count": 27,
   "id": "03f95673",
   "metadata": {},
   "outputs": [
    {
     "name": "stdout",
     "output_type": "stream",
     "text": [
      "r=0.000000 \t RMSE=0.33\n",
      "r=0.000001 \t RMSE=0.33\n",
      "r=0.000100 \t RMSE=0.33\n",
      "r=0.001000 \t RMSE=0.33\n",
      "r=0.010000 \t RMSE=0.33\n",
      "r=0.100000 \t RMSE=0.33\n",
      "r=1.000000 \t RMSE=0.33\n",
      "r=5.000000 \t RMSE=0.34\n",
      "r=10.000000 \t RMSE=0.34\n"
     ]
    }
   ],
   "source": [
    "r_params = [0, 0.000001, 0.0001, 0.001, 0.01, 0.1, 1, 5, 10]\n",
    "\n",
    "for r_val in r_params:\n",
    "    X_train = prepare_X(df_train,0)\n",
    "    w0, w = train_linear_regression_reg(X_train, y_train, r=r_val)\n",
    "\n",
    "    X_valid = prepare_X(df_valid,0)\n",
    "    y_pred = w0 + X_valid @ w\n",
    "    score = rmse(y_valid, y_pred)\n",
    "    \n",
    "    print(f\"r={r_val:f} \\t RMSE={round(score,2)}\")"
   ]
  },
  {
   "cell_type": "markdown",
   "id": "1dbe9e08",
   "metadata": {},
   "source": [
    "## Question 5\n",
    "-   We used seed 42 for splitting the data. Let's find out how selecting the seed influences our score.\n",
    "-   Try different seed values: [0, 1, 2, 3, 4, 5, 6, 7, 8, 9].\n",
    "-   For each seed, do the train/validation/test split with 60%/20%/20% distribution.\n",
    "-   Fill the missing values with 0 and train a model without regularization.\n",
    "-   For each seed, evaluate the model on the validation dataset and collect the RMSE scores.\n",
    "-   What's the standard deviation of all the scores? To compute the standard deviation, use np.std.\n",
    "-   Round the result to 3 decimal digits (round(std, 3))\n",
    "\n",
    "Note: Standard deviation shows how different the values are. If it's low, then all values are approximately the same. If it's high, the values are different. If standard deviation of scores is low, then our model is stable.\n",
    "\n",
    "Options:\n",
    "-   0.16\n",
    "-   0.00005\n",
    "-   0.005\n",
    "-   0.15555"
   ]
  },
  {
   "cell_type": "code",
   "execution_count": 28,
   "id": "7e566bbc",
   "metadata": {},
   "outputs": [
    {
     "name": "stdout",
     "output_type": "stream",
     "text": [
      "[0.3388430480529593, 0.33623872559558765, 0.33209123188440287, 0.34051536090355183, 0.33890240665726873, 0.34348667257195176, 0.3451980953098994, 0.3395989927404385, 0.3466230873192807, 0.33659261241921334]\n",
      "\n",
      "Standard Deviation of the RMSE scores is: 0.004\n"
     ]
    }
   ],
   "source": [
    "scores = []\n",
    "\n",
    "for seed in range(10):\n",
    "    idx = np.arange(n)\n",
    "    np.random.seed(seed)\n",
    "    np.random.shuffle(idx)\n",
    "    \n",
    "    df_train = df.iloc[idx[:n_train]]\n",
    "    df_valid = df.iloc[idx[n_train:n_train+n_valid]]\n",
    "    df_test = df.iloc[idx[n_train+n_valid:]]\n",
    "    \n",
    "    df_train = df_train.reset_index(drop=True)\n",
    "    df_valid = df_valid.reset_index(drop=True)\n",
    "    df_test = df_test.reset_index(drop=True)\n",
    "    \n",
    "    y_train = np.log1p(df_train.median_house_value)\n",
    "    y_valid = np.log1p(df_valid.median_house_value)\n",
    "    y_test = np.log1p(df_test.median_house_value)\n",
    "    \n",
    "    del df_train['median_house_value']\n",
    "    del df_valid['median_house_value']\n",
    "    del df_test['median_house_value']\n",
    "    \n",
    "    X_train = prepare_X(df_train,0)\n",
    "    w0, w = train_linear_regression(X_train, y_train)\n",
    "\n",
    "    X_valid = prepare_X(df_valid,0)\n",
    "    y_pred = w0 + X_valid @ w\n",
    "    score = rmse(y_valid, y_pred)\n",
    "\n",
    "    scores.append(score)\n",
    "    \n",
    "print(scores)\n",
    "std = np.std(scores)\n",
    "print(f\"\\nStandard Deviation of the RMSE scores is: {round(std,3)}\")"
   ]
  },
  {
   "cell_type": "markdown",
   "id": "153b5293",
   "metadata": {},
   "source": [
    "## Question 6\n",
    "\n",
    "-   Split the dataset like previously, use seed 9.\n",
    "-   Combine train and validation datasets.\n",
    "-   Fill the missing values with 0 and train a model with r=0.001.\n",
    "-   What's the RMSE on the test dataset?\n",
    "\n",
    "Options:\n",
    "-   0.35\n",
    "-   0.135\n",
    "-   0.450\n",
    "-   0.245"
   ]
  },
  {
   "cell_type": "code",
   "execution_count": 29,
   "id": "37b507af",
   "metadata": {},
   "outputs": [
    {
     "name": "stdout",
     "output_type": "stream",
     "text": [
      "Shape of combined X: (16512, 8)\n",
      "Shape of combined y: (16512,)\n",
      "RMSE on test dataset: 0.34531689143895106\n"
     ]
    }
   ],
   "source": [
    "idx = np.arange(n)\n",
    "np.random.seed(9)\n",
    "np.random.shuffle(idx)\n",
    "    \n",
    "df_train = df.iloc[idx[:n_train]]\n",
    "df_valid = df.iloc[idx[n_train:n_train+n_valid]]\n",
    "df_test = df.iloc[idx[n_train+n_valid:]]\n",
    "\n",
    "df_train = df_train.reset_index(drop=True)\n",
    "df_valid = df_valid.reset_index(drop=True)\n",
    "df_test = df_test.reset_index(drop=True)\n",
    "    \n",
    "y_train = np.log1p(df_train.median_house_value)\n",
    "y_valid = np.log1p(df_valid.median_house_value)\n",
    "y_test = np.log1p(df_test.median_house_value)\n",
    "    \n",
    "del df_train['median_house_value']\n",
    "del df_valid['median_house_value']\n",
    "del df_test['median_house_value']\n",
    "    \n",
    "df_full_train = pd.concat([df_train,df_valid]).reset_index(drop=True)\n",
    "X_full_train = prepare_X(df_full_train,0)\n",
    "y_full_train = np.concatenate([y_train,y_valid])\n",
    "print(f\"Shape of combined X: {X_full_train.shape}\")\n",
    "print(f\"Shape of combined y: {y_full_train.shape}\")\n",
    "\n",
    "w0, w = train_linear_regression_reg(X_full_train, y_full_train, r=0.001)\n",
    "\n",
    "X_test = prepare_X(df_test,0)\n",
    "y_pred = w0 + X_test @ w\n",
    "score = rmse(y_test, y_pred)\n",
    "print(f\"RMSE on test dataset: {score}\")"
   ]
  }
 ],
 "metadata": {
  "kernelspec": {
   "display_name": "Python 3 (ipykernel)",
   "language": "python",
   "name": "python3"
  },
  "language_info": {
   "codemirror_mode": {
    "name": "ipython",
    "version": 3
   },
   "file_extension": ".py",
   "mimetype": "text/x-python",
   "name": "python",
   "nbconvert_exporter": "python",
   "pygments_lexer": "ipython3",
   "version": "3.9.12"
  }
 },
 "nbformat": 4,
 "nbformat_minor": 5
}
